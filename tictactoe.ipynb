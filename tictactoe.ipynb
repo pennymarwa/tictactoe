{
 "cells": [
  {
   "cell_type": "code",
   "execution_count": null,
   "metadata": {
    "collapsed": true
   },
   "outputs": [],
   "source": [
    "board = ['','','','','','','','','']\n",
    "again = ''"
   ]
  },
  {
   "cell_type": "code",
   "execution_count": null,
   "metadata": {
    "collapsed": false
   },
   "outputs": [],
   "source": [
    "def display_board(board):\n",
    "    for nums in range(0,len(board)):\n",
    "        print((' |  {}  | '.format(board[nums])) , end = '')\n",
    "        if nums%3 == 2:\n",
    "            print('\\n')\n",
    "# 0123456789  "
   ]
  },
  {
   "cell_type": "code",
   "execution_count": null,
   "metadata": {
    "collapsed": false
   },
   "outputs": [],
   "source": []
  },
  {
   "cell_type": "code",
   "execution_count": null,
   "metadata": {
    "collapsed": true
   },
   "outputs": [],
   "source": [
    "def player_input():\n",
    "    mark = input('Hey Player1! Do you want X or O \\n ')\n",
    "    print('Player1 will play {} \\n '.format(mark))\n",
    "    if mark.lower() == 'x' or mark.lower() == 'o':\n",
    "        return mark\n",
    "    else:\n",
    "        print('Value should be X or O')\n",
    "        player_input()\n",
    "        \n",
    "#         again = input('Do you want to play again? \\n ')"
   ]
  },
  {
   "cell_type": "code",
   "execution_count": null,
   "metadata": {
    "collapsed": false
   },
   "outputs": [],
   "source": []
  },
  {
   "cell_type": "code",
   "execution_count": null,
   "metadata": {
    "collapsed": true
   },
   "outputs": [],
   "source": [
    "def place_marker(board, marker, position):\n",
    "    board[position] = marker"
   ]
  },
  {
   "cell_type": "code",
   "execution_count": null,
   "metadata": {
    "collapsed": true
   },
   "outputs": [],
   "source": [
    "def win_check(board,mark):\n",
    "    if board[0] == mark and board[1] == mark and board[2] == mark:\n",
    "        print('WON!')\n",
    "        return True\n",
    "    elif board[3] == mark and board[4] == mark and board[5] == mark:\n",
    "        print('WON!')\n",
    "        return True\n",
    "    elif board[6] == mark and board[7] == mark and board[8] == mark:\n",
    "        print('WON!')\n",
    "        return True\n",
    "    elif board[0] == mark and board[3] == mark and board[6] == mark:\n",
    "        print('WON!')\n",
    "        return True\n",
    "    elif board[1] == mark and board[4] == mark and board[7] == mark:\n",
    "        print('WON!')\n",
    "        return True\n",
    "    elif board[2] == mark and board[5] == mark and board[8] == mark:\n",
    "        print('WON!')\n",
    "        return True\n",
    "    elif board[0] == mark and board[4] == mark and board[8] == mark:\n",
    "        print('WON!')\n",
    "        return True\n",
    "    elif board[2] == mark and board[4] == mark and board[6] == mark:\n",
    "        print('WON!')\n",
    "        return True\n",
    "    else:\n",
    "        print('Keep playing')\n",
    "        return False"
   ]
  },
  {
   "cell_type": "code",
   "execution_count": null,
   "metadata": {
    "collapsed": false
   },
   "outputs": [],
   "source": [
    "def get_position(board):\n",
    "    position = int(input('Please enter the place where you want to mark'))\n",
    "    if space_check(board, position):\n",
    "        return position\n",
    "    else:\n",
    "        get_position(board)\n",
    "        "
   ]
  },
  {
   "cell_type": "code",
   "execution_count": null,
   "metadata": {
    "collapsed": false
   },
   "outputs": [],
   "source": [
    "#  Decide randomly which player goes first\n",
    "\n",
    "import random\n",
    "def choose_first():\n",
    "    pass"
   ]
  },
  {
   "cell_type": "code",
   "execution_count": null,
   "metadata": {
    "collapsed": true
   },
   "outputs": [],
   "source": [
    "def space_check(board, position):\n",
    "    \n",
    "    if board[position] != '':\n",
    "        print('The desired location on the board is not empty')\n",
    "        print('Please enter another position')\n",
    "        return False\n",
    "    else:\n",
    "        return True"
   ]
  },
  {
   "cell_type": "code",
   "execution_count": null,
   "metadata": {
    "collapsed": true
   },
   "outputs": [],
   "source": [
    "def full_board_check(board):\n",
    "    if all(value != '' for value in board):\n",
    "        return False\n",
    "    else:\n",
    "        return True"
   ]
  },
  {
   "cell_type": "code",
   "execution_count": null,
   "metadata": {
    "collapsed": true
   },
   "outputs": [],
   "source": [
    "def player_choice(board):\n",
    "    position = int(input('Where do you want to place your mark? '))\n",
    "    print(position)\n",
    "    if space_check(board, position):\n",
    "        place_marker(board, marker, position)\n",
    "    else:\n",
    "        player_choice(board)"
   ]
  },
  {
   "cell_type": "code",
   "execution_count": null,
   "metadata": {
    "collapsed": true
   },
   "outputs": [],
   "source": [
    "def replay():\n",
    "    again = input('Do you want to play again? \\n ')\n",
    "    return again"
   ]
  },
  {
   "cell_type": "code",
   "execution_count": null,
   "metadata": {
    "collapsed": false
   },
   "outputs": [],
   "source": [
    "print('Welcome to Tic Tac Toe!')\n",
    "\n",
    "while again.lower() != 'no': \n",
    "    board = ['','','','','','','','','']\n",
    "    mark = player_input()\n",
    "    if mark.lower() == 'o':\n",
    "        mark1 = 'x'\n",
    "    else:\n",
    "        mark1 = 'o'\n",
    "    display_board(board)\n",
    "    while full_board_check(board):\n",
    "#         player 1 turn\n",
    "        position = get_position(board)\n",
    "        place_marker(board, mark, position)\n",
    "        display_board(board)\n",
    "        print(mark)\n",
    "        if win_check(board, mark):\n",
    "            print('Player 1 won')\n",
    "            break\n",
    "#         player 2 turn\n",
    "        position = get_position(board)\n",
    "        place_marker(board, mark1, position)\n",
    "        display_board(board)\n",
    "        print(mark1)\n",
    "        if win_check(board, mark1):\n",
    "            print('Player 2 won')\n",
    "            break\n",
    "        print(full_board_check(board))\n",
    "    again = replay()\n"
   ]
  },
  {
   "cell_type": "code",
   "execution_count": null,
   "metadata": {
    "collapsed": false
   },
   "outputs": [],
   "source": []
  },
  {
   "cell_type": "code",
   "execution_count": null,
   "metadata": {
    "collapsed": true
   },
   "outputs": [],
   "source": []
  }
 ],
 "metadata": {
  "kernelspec": {
   "display_name": "Python 3",
   "language": "python",
   "name": "python3"
  },
  "language_info": {
   "codemirror_mode": {
    "name": "ipython",
    "version": 3
   },
   "file_extension": ".py",
   "mimetype": "text/x-python",
   "name": "python",
   "nbconvert_exporter": "python",
   "pygments_lexer": "ipython3",
   "version": "3.6.0"
  }
 },
 "nbformat": 4,
 "nbformat_minor": 2
}
